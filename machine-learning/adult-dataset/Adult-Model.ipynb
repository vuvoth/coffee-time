{
 "cells": [
  {
   "cell_type": "code",
   "execution_count": 4,
   "metadata": {},
   "outputs": [],
   "source": [
    "import pandas as pd\n",
    "import sklearn as skl"
   ]
  },
  {
   "cell_type": "code",
   "execution_count": 43,
   "metadata": {},
   "outputs": [
    {
     "name": "stdout",
     "output_type": "stream",
     "text": [
      "                                                       0\n",
      "0      39, State-gov, 77516, Bachelors, 13, Never-mar...\n",
      "1      50, Self-emp-not-inc, 83311, Bachelors, 13, Ma...\n",
      "2      38, Private, 215646, HS-grad, 9, Divorced, Han...\n",
      "3      53, Private, 234721, 11th, 7, Married-civ-spou...\n",
      "4      28, Private, 338409, Bachelors, 13, Married-ci...\n",
      "5      37, Private, 284582, Masters, 14, Married-civ-...\n",
      "6      49, Private, 160187, 9th, 5, Married-spouse-ab...\n",
      "7      52, Self-emp-not-inc, 209642, HS-grad, 9, Marr...\n",
      "8      31, Private, 45781, Masters, 14, Never-married...\n",
      "9      42, Private, 159449, Bachelors, 13, Married-ci...\n",
      "10     37, Private, 280464, Some-college, 10, Married...\n",
      "11     30, State-gov, 141297, Bachelors, 13, Married-...\n",
      "12     23, Private, 122272, Bachelors, 13, Never-marr...\n",
      "13     32, Private, 205019, Assoc-acdm, 12, Never-mar...\n",
      "14     40, Private, 121772, Assoc-voc, 11, Married-ci...\n",
      "15     34, Private, 245487, 7th-8th, 4, Married-civ-s...\n",
      "16     25, Self-emp-not-inc, 176756, HS-grad, 9, Neve...\n",
      "17     32, Private, 186824, HS-grad, 9, Never-married...\n",
      "18     38, Private, 28887, 11th, 7, Married-civ-spous...\n",
      "19     43, Self-emp-not-inc, 292175, Masters, 14, Div...\n",
      "20     40, Private, 193524, Doctorate, 16, Married-ci...\n",
      "21     54, Private, 302146, HS-grad, 9, Separated, Ot...\n",
      "22     35, Federal-gov, 76845, 9th, 5, Married-civ-sp...\n",
      "23     43, Private, 117037, 11th, 7, Married-civ-spou...\n",
      "24     59, Private, 109015, HS-grad, 9, Divorced, Tec...\n",
      "25     56, Local-gov, 216851, Bachelors, 13, Married-...\n",
      "26     19, Private, 168294, HS-grad, 9, Never-married...\n",
      "27     54, ?, 180211, Some-college, 10, Married-civ-s...\n",
      "28     39, Private, 367260, HS-grad, 9, Divorced, Exe...\n",
      "29     49, Private, 193366, HS-grad, 9, Married-civ-s...\n",
      "...                                                  ...\n",
      "32531  30, ?, 33811, Bachelors, 13, Never-married, ?,...\n",
      "32532  34, Private, 204461, Doctorate, 16, Married-ci...\n",
      "32533  54, Private, 337992, Bachelors, 13, Married-ci...\n",
      "32534  37, Private, 179137, Some-college, 10, Divorce...\n",
      "32535  22, Private, 325033, 12th, 8, Never-married, P...\n",
      "32536  34, Private, 160216, Bachelors, 13, Never-marr...\n",
      "32537  30, Private, 345898, HS-grad, 9, Never-married...\n",
      "32538  38, Private, 139180, Bachelors, 13, Divorced, ...\n",
      "32539  71, ?, 287372, Doctorate, 16, Married-civ-spou...\n",
      "32540  45, State-gov, 252208, HS-grad, 9, Separated, ...\n",
      "32541  41, ?, 202822, HS-grad, 9, Separated, ?, Not-i...\n",
      "32542  72, ?, 129912, HS-grad, 9, Married-civ-spouse,...\n",
      "32543  45, Local-gov, 119199, Assoc-acdm, 12, Divorce...\n",
      "32544  31, Private, 199655, Masters, 14, Divorced, Ot...\n",
      "32545  39, Local-gov, 111499, Assoc-acdm, 12, Married...\n",
      "32546  37, Private, 198216, Assoc-acdm, 12, Divorced,...\n",
      "32547  43, Private, 260761, HS-grad, 9, Married-civ-s...\n",
      "32548  65, Self-emp-not-inc, 99359, Prof-school, 15, ...\n",
      "32549  43, State-gov, 255835, Some-college, 10, Divor...\n",
      "32550  43, Self-emp-not-inc, 27242, Some-college, 10,...\n",
      "32551  32, Private, 34066, 10th, 6, Married-civ-spous...\n",
      "32552  43, Private, 84661, Assoc-voc, 11, Married-civ...\n",
      "32553  32, Private, 116138, Masters, 14, Never-marrie...\n",
      "32554  53, Private, 321865, Masters, 14, Married-civ-...\n",
      "32555  22, Private, 310152, Some-college, 10, Never-m...\n",
      "32556  27, Private, 257302, Assoc-acdm, 12, Married-c...\n",
      "32557  40, Private, 154374, HS-grad, 9, Married-civ-s...\n",
      "32558  58, Private, 151910, HS-grad, 9, Widowed, Adm-...\n",
      "32559  22, Private, 201490, HS-grad, 9, Never-married...\n",
      "32560  52, Self-emp-inc, 287927, HS-grad, 9, Married-...\n",
      "\n",
      "[32561 rows x 1 columns]\n"
     ]
    }
   ],
   "source": [
    "data = pd.read_csv(\"adult.data\",delimiter=\"\\n\", header=None)\n",
    "print(data)"
   ]
  },
  {
   "cell_type": "code",
   "execution_count": 44,
   "metadata": {},
   "outputs": [
    {
     "data": {
      "text/plain": [
       "0    39, State-gov, 77516, Bachelors, 13, Never-mar...\n",
       "Name: 0, dtype: object"
      ]
     },
     "execution_count": 44,
     "metadata": {},
     "output_type": "execute_result"
    }
   ],
   "source": [
    "data.iloc[0]"
   ]
  }
 ],
 "metadata": {
  "kernelspec": {
   "display_name": "Python 3",
   "language": "python",
   "name": "python3"
  },
  "language_info": {
   "codemirror_mode": {
    "name": "ipython",
    "version": 2
   },
   "file_extension": ".py",
   "mimetype": "text/x-python",
   "name": "python",
   "nbconvert_exporter": "python",
   "pygments_lexer": "ipython2",
   "version": "2.7.17"
  }
 },
 "nbformat": 4,
 "nbformat_minor": 2
}
